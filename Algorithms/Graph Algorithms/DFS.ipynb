{
 "cells": [
  {
   "cell_type": "code",
   "execution_count": null,
   "metadata": {},
   "outputs": [],
   "source": [
    "\"\"\"\n",
    "Algoritm Name: Depth First Search\n",
    "Usage: Graph Traversal\n",
    "Time Complexity:    O(|V| + |E|) -> Adj List\n",
    "                    O(V^2)       -> Adj Matrix\n",
    "Space Complexity: O(h) -> Recursive Method\n",
    "                  O(db) -> Iterative Method\n",
    "\n",
    "G1:\n",
    "  1----4\n",
    " /    /\n",
    "0----3------6\n",
    " \\    \\    /\n",
    "  2----5--7\n",
    "\n",
    "G2:\n",
    "  1----4\n",
    " /    \n",
    "0----3------6\n",
    " \\    \n",
    "  2----5--7\n",
    "\"\"\"\n"
   ]
  },
  {
   "cell_type": "code",
   "execution_count": 1,
   "metadata": {},
   "outputs": [],
   "source": [
    "G1 = {\n",
    "    0: [1, 3, 2],\n",
    "    1: [0, 4],\n",
    "    2: [0, 5],\n",
    "    3: [4, 0, 6, 5],\n",
    "    4: [1, 3],\n",
    "    5: [2, 3, 7],\n",
    "    6: [3, 7],\n",
    "    7: [5, 6]\n",
    "}\n",
    "G2 = {\n",
    "    0: [1, 3, 2],\n",
    "    1: [0, 4],\n",
    "    2: [0, 5],\n",
    "    3: [0, 6],\n",
    "    4: [1],\n",
    "    5: [2, 7],\n",
    "    6: [3],\n",
    "    7: [5]\n",
    "}"
   ]
  },
  {
   "cell_type": "code",
   "execution_count": 2,
   "metadata": {},
   "outputs": [],
   "source": [
    "# Recursive Method\n",
    "def DFS_recursive(G, v):\n",
    "    visited = [0] * len(G)\n",
    "    def hit(G, v):\n",
    "        visited[v] = 1\n",
    "        print(v, end=\" -> \")\n",
    "        for n in G[v]:\n",
    "            if not visited[n]:\n",
    "                hit(G, n)\n",
    "    hit(G, v)"
   ]
  },
  {
   "cell_type": "code",
   "execution_count": 3,
   "metadata": {},
   "outputs": [
    {
     "name": "stdout",
     "output_type": "stream",
     "text": [
      "0 -> 1 -> 4 -> 3 -> 6 -> 7 -> 5 -> 2 -> "
     ]
    }
   ],
   "source": [
    "DFS_recursive(G1, 0)"
   ]
  },
  {
   "cell_type": "code",
   "execution_count": 4,
   "metadata": {},
   "outputs": [
    {
     "name": "stdout",
     "output_type": "stream",
     "text": [
      "0 -> 1 -> 4 -> 3 -> 6 -> 2 -> 5 -> 7 -> "
     ]
    }
   ],
   "source": [
    "DFS_recursive(G2, 0)"
   ]
  },
  {
   "cell_type": "code",
   "execution_count": 5,
   "metadata": {},
   "outputs": [],
   "source": [
    "# Iterative Method\n",
    "def DFS_iterative(G, v):\n",
    "    visited = [0] * len(G)\n",
    "    S = [v]\n",
    "    while S:\n",
    "        curr_node = S.pop()\n",
    "        if not visited[curr_node]:\n",
    "            visited[curr_node] = 1\n",
    "            print(curr_node, end=\" -> \")\n",
    "            for n in G[curr_node]:\n",
    "                if not visited[n]:\n",
    "                    S.append(n)"
   ]
  },
  {
   "cell_type": "code",
   "execution_count": 6,
   "metadata": {},
   "outputs": [
    {
     "name": "stdout",
     "output_type": "stream",
     "text": [
      "0 -> 2 -> 5 -> 7 -> 6 -> 3 -> 4 -> 1 -> "
     ]
    }
   ],
   "source": [
    "DFS_iterative(G1, 0)"
   ]
  },
  {
   "cell_type": "code",
   "execution_count": 7,
   "metadata": {},
   "outputs": [
    {
     "name": "stdout",
     "output_type": "stream",
     "text": [
      "0 -> 2 -> 5 -> 7 -> 3 -> 6 -> 1 -> 4 -> "
     ]
    }
   ],
   "source": [
    "DFS_iterative(G2, 0)"
   ]
  }
 ],
 "metadata": {
  "kernelspec": {
   "display_name": "Python 3",
   "language": "python",
   "name": "python3"
  },
  "language_info": {
   "codemirror_mode": {
    "name": "ipython",
    "version": 3
   },
   "file_extension": ".py",
   "mimetype": "text/x-python",
   "name": "python",
   "nbconvert_exporter": "python",
   "pygments_lexer": "ipython3",
   "version": "3.7.4"
  }
 },
 "nbformat": 4,
 "nbformat_minor": 2
}
