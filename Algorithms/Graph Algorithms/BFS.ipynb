{
 "cells": [
  {
   "cell_type": "code",
   "execution_count": null,
   "metadata": {},
   "outputs": [],
   "source": [
    "\"\"\"\n",
    "Algoritm Name: Breadth First Search\n",
    "Usage: Graph Traversal\n",
    "Time Complexity:    O(|V| + |E|)\n",
    "Space Complexity: O(|V|)\n",
    "Time/Space Complexity: O(b^d+1) where d is the distance of the current node from the start node,\n",
    "and b is the branching factor (the degree of the current node).\n",
    "\n",
    "G1:\n",
    "  1----4\n",
    " /    /\n",
    "0----3------6\n",
    " \\    \\    /\n",
    "  2----5--7\n",
    "\n",
    "G2:\n",
    "  1----4\n",
    " /    \n",
    "0----3------6\n",
    " \\    \n",
    "  2----5--7\n",
    "\"\"\"\n"
   ]
  },
  {
   "cell_type": "code",
   "execution_count": 1,
   "metadata": {},
   "outputs": [],
   "source": [
    "G1 = {\n",
    "    0: [1, 3, 2],\n",
    "    1: [0, 4],\n",
    "    2: [0, 5],\n",
    "    3: [4, 0, 6, 5],\n",
    "    4: [1, 3],\n",
    "    5: [2, 3, 7],\n",
    "    6: [3, 7],\n",
    "    7: [5, 6]\n",
    "}\n",
    "G2 = {\n",
    "    0: [1, 3, 2],\n",
    "    1: [0, 4],\n",
    "    2: [0, 5],\n",
    "    3: [0, 6],\n",
    "    4: [1],\n",
    "    5: [2, 7],\n",
    "    6: [3],\n",
    "    7: [5]\n",
    "}"
   ]
  },
  {
   "cell_type": "code",
   "execution_count": 2,
   "metadata": {},
   "outputs": [],
   "source": [
    "def BFS(G, v):\n",
    "    visited = [0] * len(G)\n",
    "    Q = [v]\n",
    "    while Q:\n",
    "        curr_node = Q.pop(0)\n",
    "        if not visited[curr_node]:\n",
    "            visited[curr_node] = 1\n",
    "            print(curr_node, end=\" -> \")\n",
    "            for n in G[curr_node]:\n",
    "                if not visited[n]:\n",
    "                    Q.append(n)"
   ]
  },
  {
   "cell_type": "code",
   "execution_count": 3,
   "metadata": {},
   "outputs": [
    {
     "name": "stdout",
     "output_type": "stream",
     "text": [
      "0 -> 1 -> 3 -> 2 -> 4 -> 6 -> 5 -> 7 -> "
     ]
    }
   ],
   "source": [
    "BFS(G1, 0)"
   ]
  },
  {
   "cell_type": "code",
   "execution_count": 4,
   "metadata": {},
   "outputs": [
    {
     "name": "stdout",
     "output_type": "stream",
     "text": [
      "0 -> 1 -> 3 -> 2 -> 4 -> 6 -> 5 -> 7 -> "
     ]
    }
   ],
   "source": [
    "BFS(G2, 0)"
   ]
  }
 ],
 "metadata": {
  "kernelspec": {
   "display_name": "Python 3",
   "language": "python",
   "name": "python3"
  },
  "language_info": {
   "codemirror_mode": {
    "name": "ipython",
    "version": 3
   },
   "file_extension": ".py",
   "mimetype": "text/x-python",
   "name": "python",
   "nbconvert_exporter": "python",
   "pygments_lexer": "ipython3",
   "version": "3.7.4"
  }
 },
 "nbformat": 4,
 "nbformat_minor": 2
}
