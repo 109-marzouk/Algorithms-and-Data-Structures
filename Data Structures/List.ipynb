{
 "cells": [
  {
   "cell_type": "markdown",
   "metadata": {},
   "source": [
    "# List Implementation using Linked List"
   ]
  },
  {
   "cell_type": "code",
   "execution_count": 1,
   "metadata": {},
   "outputs": [],
   "source": [
    "\"\"\"\n",
    "methods: head, tail, append, prepend\n",
    "\"\"\"\n",
    "class Node():\n",
    "    def __init__(self, value, next_node=None):\n",
    "        self.value = value\n",
    "        self.next_node = next_node\n",
    "\n",
    "class List():\n",
    "    def __init__(self, head_node=None):\n",
    "        self.head_node = head_node\n",
    "    \n",
    "    def head(self):\n",
    "        return self.head_node\n",
    "    \n",
    "    def is_empty(self):\n",
    "        return self.head_node is None\n",
    "    \n",
    "    def tail(self):\n",
    "        if self.is_empty():\n",
    "            return Exception(\"An Empty List dose not have a tail\")\n",
    "        return List(self.head_node.next_node)\n",
    "    \n",
    "    def prepend(self, value):\n",
    "        new_head = Node(value, self.head_node)\n",
    "        self.head_node = new_head\n",
    "    \n",
    "    # O(n)\n",
    "    def append(self, value):\n",
    "        to_add = Node(value)\n",
    "        if self.is_empty():\n",
    "            self.head_node = to_add\n",
    "        else:\n",
    "            last_node = self.head_node\n",
    "            while last_node.next_node:\n",
    "                last_node = last_node.next_node\n",
    "            last_node.next_node = to_add\n",
    "    \n",
    "    def __str__(self):\n",
    "        result = \"[\"\n",
    "        curr_node = self.head_node\n",
    "        \n",
    "        while curr_node:\n",
    "            result += str(curr_node.value)\n",
    "            if curr_node.next_node != None: result += \", \"\n",
    "            curr_node = curr_node.next_node\n",
    "        result += \"]\"\n",
    "        return result   "
   ]
  },
  {
   "cell_type": "code",
   "execution_count": 2,
   "metadata": {},
   "outputs": [],
   "source": [
    "friends = List()"
   ]
  },
  {
   "cell_type": "code",
   "execution_count": 3,
   "metadata": {},
   "outputs": [
    {
     "name": "stdout",
     "output_type": "stream",
     "text": [
      "[]\n"
     ]
    }
   ],
   "source": [
    "print(friends)"
   ]
  },
  {
   "cell_type": "code",
   "execution_count": 4,
   "metadata": {},
   "outputs": [],
   "source": [
    "friends.append(\"Mohamed\")"
   ]
  },
  {
   "cell_type": "code",
   "execution_count": 5,
   "metadata": {},
   "outputs": [
    {
     "name": "stdout",
     "output_type": "stream",
     "text": [
      "[Mohamed]\n"
     ]
    }
   ],
   "source": [
    "print(friends)"
   ]
  },
  {
   "cell_type": "code",
   "execution_count": 6,
   "metadata": {},
   "outputs": [],
   "source": [
    "friends.append(\"Marzouk\")"
   ]
  },
  {
   "cell_type": "code",
   "execution_count": 7,
   "metadata": {},
   "outputs": [
    {
     "name": "stdout",
     "output_type": "stream",
     "text": [
      "[Mohamed, Marzouk]\n"
     ]
    }
   ],
   "source": [
    "print(friends)"
   ]
  },
  {
   "cell_type": "code",
   "execution_count": 8,
   "metadata": {},
   "outputs": [],
   "source": [
    "friends.prepend(\"ProgX\")"
   ]
  },
  {
   "cell_type": "code",
   "execution_count": 9,
   "metadata": {},
   "outputs": [
    {
     "name": "stdout",
     "output_type": "stream",
     "text": [
      "[ProgX, Mohamed, Marzouk]\n"
     ]
    }
   ],
   "source": [
    "print(friends)"
   ]
  },
  {
   "cell_type": "code",
   "execution_count": 10,
   "metadata": {},
   "outputs": [
    {
     "data": {
      "text/plain": [
       "'ProgX'"
      ]
     },
     "execution_count": 10,
     "metadata": {},
     "output_type": "execute_result"
    }
   ],
   "source": [
    "friends.head().value"
   ]
  },
  {
   "cell_type": "code",
   "execution_count": 12,
   "metadata": {},
   "outputs": [
    {
     "name": "stdout",
     "output_type": "stream",
     "text": [
      "[Mohamed, Marzouk]\n"
     ]
    }
   ],
   "source": [
    "print(friends.tail())"
   ]
  },
  {
   "cell_type": "code",
   "execution_count": 13,
   "metadata": {},
   "outputs": [
    {
     "data": {
      "text/plain": [
       "'Mohamed'"
      ]
     },
     "execution_count": 13,
     "metadata": {},
     "output_type": "execute_result"
    }
   ],
   "source": [
    "friends.tail().head().value"
   ]
  },
  {
   "cell_type": "code",
   "execution_count": null,
   "metadata": {},
   "outputs": [],
   "source": []
  }
 ],
 "metadata": {
  "kernelspec": {
   "display_name": "Python 3",
   "language": "python",
   "name": "python3"
  },
  "language_info": {
   "codemirror_mode": {
    "name": "ipython",
    "version": 3
   },
   "file_extension": ".py",
   "mimetype": "text/x-python",
   "name": "python",
   "nbconvert_exporter": "python",
   "pygments_lexer": "ipython3",
   "version": "3.7.4"
  }
 },
 "nbformat": 4,
 "nbformat_minor": 2
}
